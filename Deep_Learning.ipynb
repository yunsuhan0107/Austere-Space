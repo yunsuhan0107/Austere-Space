{
 "cells": [
  {
   "cell_type": "markdown",
   "metadata": {},
   "source": [
    "# Deep Learning \n",
    "This program uses mnist data to take a look at how deep learning is structured. "
   ]
  },
  {
   "cell_type": "markdown",
   "metadata": {},
   "source": [
    "## Set the Dataset\n",
    "First, we need to import some packages. Since this program uses tensorflow as its algorithm for deep learning, it needs to import tensorflow packages. Also, import numpy package because we will use it for allocate random seeds. We will also import matplotlib in the last cell because we need to visualize the result. \n",
    "\n",
    "And then, we divide the data into train sets and validation sets. We have 100000 data in the mnist dataset, and so we will divide into exactly half of it: 50000 for train sets, 50000 for validation sets. Since my computer won't handle the huge amount of data, I will only use 784 each. "
   ]
  },
  {
   "cell_type": "code",
   "execution_count": 1,
   "metadata": {},
   "outputs": [],
   "source": [
    "import tensorflow.keras.utils as utils\n",
    "from tensorflow.keras.datasets import mnist\n",
    "from tensorflow.keras.models import Sequential\n",
    "from tensorflow.keras.layers import Dense, Activation\n",
    "import numpy as np\n",
    "np.random.seed(3)\n",
    "\n",
    "(X_train, Y_train), (X_test, Y_test) = mnist.load_data()\n",
    "\n",
    "X_val = X_train[50000:]\n",
    "Y_val = Y_train[50000:]\n",
    "X_train = X_train[:50000]\n",
    "Y_train = Y_train[:50000]\n",
    "\n",
    "X_train = X_train.reshape(50000, 784).astype('float32') / 255.0\n",
    "X_val = X_val.reshape(10000, 784).astype('float32') / 255.0\n",
    "X_test = X_test.reshape(10000, 784).astype('float32') / 255.0\n",
    "\n",
    "Y_train = utils.to_categorical(Y_train)\n",
    "Y_val = utils.to_categorical(Y_val)\n",
    "Y_test = utils.to_categorical(Y_test)"
   ]
  },
  {
   "cell_type": "markdown",
   "metadata": {},
   "source": [
    "## Add Layers\n",
    "Next step is to add the layers. The most important part of deep learning comes to this place. The number of units, activation functions, and the number of input neurons are effective on the accuracy of the program. For this program, it has three layers: one input layer with 28 x 28 inputs, and two layers with 128 and 10 units each. The last layer has the softmax activation function in order to normalize the input."
   ]
  },
  {
   "cell_type": "code",
   "execution_count": 2,
   "metadata": {},
   "outputs": [],
   "source": [
    "model = Sequential()\n",
    "model.add(Dense(units=512, input_dim=28*28, activation='relu'))\n",
    "model.add(Dense(units=128, activation='relu'))\n",
    "model.add(Dense(units=10, activation='softmax'))"
   ]
  },
  {
   "cell_type": "markdown",
   "metadata": {},
   "source": [
    "## Compile the Model\n",
    "Then, we compile the model. In this step, we specify several functions to calculate the accuracy or loss and set optimizer functions. Since our data type is not binary, we calculate the loss by categorical crossentropy. sgd stands for Stochastic gradient descent. It calculates the momentum and the learning rate decay in order to slide down the fitting curve faster. "
   ]
  },
  {
   "cell_type": "code",
   "execution_count": 5,
   "metadata": {},
   "outputs": [],
   "source": [
    "model.compile(loss='categorical_crossentropy', optimizer='sgd',metrics=['accuracy'])"
   ]
  },
  {
   "cell_type": "markdown",
   "metadata": {},
   "source": [
    "## Fit the Model\n",
    "Now, it's time to train the model! \"epochs\" is to indicate the number of repetition of the fitting. \"batch_size\" is the number of data sets for one validation check. Bring the train data sets and validation data sets, and run the code. It will take a lot of time to finish the process if the numbers were high, but in this case, the numbers are relatively small than other programs out there. "
   ]
  },
  {
   "cell_type": "code",
   "execution_count": 6,
   "metadata": {},
   "outputs": [
    {
     "name": "stdout",
     "output_type": "stream",
     "text": [
      "Train on 50000 samples, validate on 10000 samples\n",
      "Epoch 1/20\n",
      "50000/50000 [==============================] - 9s 189us/sample - loss: 1.0580 - accuracy: 0.7487 - val_loss: 0.4835 - val_accuracy: 0.8883\n",
      "Epoch 2/20\n",
      "50000/50000 [==============================] - 9s 173us/sample - loss: 0.4381 - accuracy: 0.8861 - val_loss: 0.3491 - val_accuracy: 0.9069\n",
      "Epoch 3/20\n",
      "50000/50000 [==============================] - 8s 168us/sample - loss: 0.3521 - accuracy: 0.9034 - val_loss: 0.3014 - val_accuracy: 0.9182\n",
      "Epoch 4/20\n",
      "50000/50000 [==============================] - 8s 167us/sample - loss: 0.3118 - accuracy: 0.9133 - val_loss: 0.2728 - val_accuracy: 0.9252\n",
      "Epoch 5/20\n",
      "50000/50000 [==============================] - 8s 167us/sample - loss: 0.2851 - accuracy: 0.9200 - val_loss: 0.2550 - val_accuracy: 0.9288\n",
      "Epoch 6/20\n",
      "50000/50000 [==============================] - 9s 172us/sample - loss: 0.2646 - accuracy: 0.9250 - val_loss: 0.2386 - val_accuracy: 0.9339\n",
      "Epoch 7/20\n",
      "50000/50000 [==============================] - 9s 174us/sample - loss: 0.2481 - accuracy: 0.9304 - val_loss: 0.2255 - val_accuracy: 0.9380\n",
      "Epoch 8/20\n",
      "50000/50000 [==============================] - 9s 174us/sample - loss: 0.2341 - accuracy: 0.9339 - val_loss: 0.2136 - val_accuracy: 0.9408\n",
      "Epoch 9/20\n",
      "50000/50000 [==============================] - 9s 174us/sample - loss: 0.2216 - accuracy: 0.9369 - val_loss: 0.2047 - val_accuracy: 0.9435\n",
      "Epoch 10/20\n",
      "50000/50000 [==============================] - 9s 174us/sample - loss: 0.2108 - accuracy: 0.9405 - val_loss: 0.1954 - val_accuracy: 0.9474\n",
      "Epoch 11/20\n",
      "50000/50000 [==============================] - 9s 178us/sample - loss: 0.2008 - accuracy: 0.9428 - val_loss: 0.1885 - val_accuracy: 0.9500\n",
      "Epoch 12/20\n",
      "50000/50000 [==============================] - 11s 211us/sample - loss: 0.1920 - accuracy: 0.9456 - val_loss: 0.1813 - val_accuracy: 0.9513\n",
      "Epoch 13/20\n",
      "50000/50000 [==============================] - 11s 218us/sample - loss: 0.1838 - accuracy: 0.9482 - val_loss: 0.1766 - val_accuracy: 0.9527\n",
      "Epoch 14/20\n",
      "50000/50000 [==============================] - 11s 212us/sample - loss: 0.1760 - accuracy: 0.9501 - val_loss: 0.1718 - val_accuracy: 0.9537\n",
      "Epoch 15/20\n",
      "50000/50000 [==============================] - 10s 202us/sample - loss: 0.1693 - accuracy: 0.9517 - val_loss: 0.1628 - val_accuracy: 0.9562\n",
      "Epoch 16/20\n",
      "50000/50000 [==============================] - 9s 181us/sample - loss: 0.1628 - accuracy: 0.9535 - val_loss: 0.1590 - val_accuracy: 0.9575\n",
      "Epoch 17/20\n",
      "50000/50000 [==============================] - 9s 176us/sample - loss: 0.1568 - accuracy: 0.9554 - val_loss: 0.1544 - val_accuracy: 0.9576\n",
      "Epoch 18/20\n",
      "50000/50000 [==============================] - 9s 175us/sample - loss: 0.1510 - accuracy: 0.9569 - val_loss: 0.1487 - val_accuracy: 0.9596\n",
      "Epoch 19/20\n",
      "50000/50000 [==============================] - 9s 187us/sample - loss: 0.1459 - accuracy: 0.9589 - val_loss: 0.1469 - val_accuracy: 0.9597\n",
      "Epoch 20/20\n",
      "50000/50000 [==============================] - 9s 179us/sample - loss: 0.1410 - accuracy: 0.9603 - val_loss: 0.1434 - val_accuracy: 0.9603\n"
     ]
    }
   ],
   "source": [
    "hist = model.fit(X_train, Y_train, epochs=20, batch_size=10,validation_data=(X_val, Y_val))"
   ]
  },
  {
   "cell_type": "markdown",
   "metadata": {},
   "source": [
    "## Visualize the Result\n",
    "We can see the numbers above, but it's way much better to see the results in a graph. Import the matplotlib package to visualize the result. The graph will show the line of train and validation accuracy and train and validation loss. If the lines for loss and accuracy of train set and validation set overlap each other, the the model is well fit. If the loss increases, then the model is overfit. We have to tweak the digits a little bit. This model will show a pretty good result. "
   ]
  },
  {
   "cell_type": "code",
   "execution_count": 7,
   "metadata": {},
   "outputs": [
    {
     "data": {
      "image/png": "[encoded data removed]",
      "text/plain": [
       "<Figure size 432x288 with 2 Axes>"
      ]
     },
     "metadata": {
      "needs_background": "light"
     },
     "output_type": "display_data"
    }
   ],
   "source": [
    "%matplotlib inline\n",
    "import matplotlib.pyplot as plt\n",
    "fig, loss_ax = plt.subplots()\n",
    "\n",
    "acc_ax = loss_ax.twinx()\n",
    "loss_ax.plot(hist.history['loss'], 'y', label='train loss')\n",
    "loss_ax.plot(hist.history['val_loss'], 'r', label='val loss')\n",
    "acc_ax.plot(hist.history['accuracy'], 'b', label='train acc')\n",
    "acc_ax.plot(hist.history['val_accuracy'], 'g', label='val acc')\n",
    "loss_ax.set_xlabel('epoch')\n",
    "loss_ax.set_ylabel('loss')\n",
    "acc_ax.set_ylabel('accuray')\n",
    "loss_ax.legend(loc='upper left')\n",
    "acc_ax.legend(loc='lower left')\n",
    "plt.show()"
   ]
  }
 ],
 "metadata": {
  "kernelspec": {
   "display_name": "Python 3",
   "language": "python",
   "name": "python3"
  },
  "language_info": {
   "codemirror_mode": {
    "name": "ipython",
    "version": 3
   },
   "file_extension": ".py",
   "mimetype": "text/x-python",
   "name": "python",
   "nbconvert_exporter": "python",
   "pygments_lexer": "ipython3",
   "version": "3.7.3"
  }
 },
 "nbformat": 4,
 "nbformat_minor": 2
}
