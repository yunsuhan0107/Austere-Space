{
 "cells": [
  {
   "cell_type": "markdown",
   "metadata": {},
   "source": [
    "# 안녕하세요.\n",
    "이것은 글입니다."
   ]
  },
  {
   "cell_type": "code",
   "execution_count": 29,
   "metadata": {},
   "outputs": [],
   "source": [
    "import numpy as np\n",
    "from tensorflow.keras.models import Sequential\n",
    "from tensorflow.keras.layers import Dense\n",
    "from tensorflow.keras.layers import Flatten\n",
    "from tensorflow.keras.layers import Conv2D\n",
    "from tensorflow.keras.layers import MaxPooling2D\n",
    "from tensorflow.keras.preprocessing.image import ImageDataGenerator\n",
    "from tensorflow.keras.layers import Dropout\n",
    "\n",
    "# 랜덤시드 고정시키기\n",
    "np.random.seed(3)\n"
   ]
  },
  {
   "cell_type": "code",
   "execution_count": 30,
   "metadata": {},
   "outputs": [
    {
     "name": "stdout",
     "output_type": "stream",
     "text": [
      "Found 711 images belonging to 2 classes.\n",
      "Found 324 images belonging to 2 classes.\n"
     ]
    }
   ],
   "source": [
    "# 1. 데이터 생성하기\n",
    "rain_datagen = ImageDataGenerator(rescale=1./255, \n",
    "                                   rotation_range=10,\n",
    "                                   width_shift_range=0.2,\n",
    "                                   height_shift_range=0.2,\n",
    "                                   shear_range=0.7,\n",
    "                                   zoom_range=[0.9, 2.2],\n",
    "                                   horizontal_flip=True,\n",
    "                                   vertical_flip=True,\n",
    "                                   fill_mode='nearest')\n",
    "\n",
    "train_generator = train_datagen.flow_from_directory(\n",
    "        'data/train',\n",
    "        target_size=(32, 32), \n",
    "        batch_size=3,\n",
    "        class_mode='binary') \n",
    "\n",
    "test_datagen = ImageDataGenerator(rescale=1./255)\n",
    "\n",
    "test_generator = test_datagen.flow_from_directory(\n",
    "        'data/test',\n",
    "        target_size=(32, 32),     \n",
    "        batch_size=3,\n",
    "        class_mode='binary') "
   ]
  },
  {
   "cell_type": "code",
   "execution_count": 31,
   "metadata": {},
   "outputs": [],
   "source": [
    "# 2. 모델 구성하기\n",
    "\n",
    "\n",
    "model = Sequential()\n",
    "model.add(Conv2D(32, (3, 3), activation='elu', input_shape=(32,32, 3)))\n",
    "model.add(Conv2D(32, (3, 3), activation='elu'))\n",
    "model.add(MaxPooling2D(pool_size=(2, 2)))\n",
    "model.add(Dropout(0.25))\n",
    "model.add(Conv2D(64, (3, 3), activation='elu'))\n",
    "model.add(Conv2D(64, (3, 3), activation='elu'))\n",
    "model.add(MaxPooling2D(pool_size=(2, 2)))\n",
    "model.add(Dropout(0.25))\n",
    "model.add(Flatten())\n",
    "model.add(Dense(256, activation='elu'))\n",
    "model.add(Dense(128, activation='elu'))\n",
    "model.add(Dropout(0.5))\n",
    "model.add(Dense(1, activation='sigmoid'))"
   ]
  },
  {
   "cell_type": "code",
   "execution_count": 32,
   "metadata": {},
   "outputs": [],
   "source": [
    "# 3. 모델 학습과정 설정하기\n",
    "\n",
    "model.compile(loss='binary_crossentropy', optimizer='adam', metrics=['accuracy'])"
   ]
  },
  {
   "cell_type": "code",
   "execution_count": 35,
   "metadata": {},
   "outputs": [
    {
     "name": "stdout",
     "output_type": "stream",
     "text": [
      "Epoch 1/50\n",
      "10/10 [==============================] - 0s 44ms/step - loss: 0.0062 - accuracy: 1.0000 - val_loss: 0.0279 - val_accuracy: 1.0000\n",
      "Epoch 2/50\n",
      "10/10 [==============================] - 0s 41ms/step - loss: 0.0049 - accuracy: 1.0000 - val_loss: 0.0879 - val_accuracy: 0.9333\n",
      "Epoch 3/50\n",
      "10/10 [==============================] - 0s 42ms/step - loss: 0.1313 - accuracy: 0.9667 - val_loss: 0.0719 - val_accuracy: 0.9333\n",
      "Epoch 4/50\n",
      "10/10 [==============================] - 0s 43ms/step - loss: 0.0036 - accuracy: 1.0000 - val_loss: 0.0025 - val_accuracy: 1.0000\n",
      "Epoch 5/50\n",
      "10/10 [==============================] - 0s 44ms/step - loss: 0.0812 - accuracy: 0.9667 - val_loss: 0.1058 - val_accuracy: 0.9333\n",
      "Epoch 6/50\n",
      "10/10 [==============================] - 0s 42ms/step - loss: 0.0380 - accuracy: 1.0000 - val_loss: 0.0097 - val_accuracy: 1.0000\n",
      "Epoch 7/50\n",
      "10/10 [==============================] - 0s 43ms/step - loss: 7.0548e-04 - accuracy: 1.0000 - val_loss: 0.0029 - val_accuracy: 1.0000\n",
      "Epoch 8/50\n",
      "10/10 [==============================] - 0s 43ms/step - loss: 0.2443 - accuracy: 0.9667 - val_loss: 0.1281 - val_accuracy: 0.9333\n",
      "Epoch 9/50\n",
      "10/10 [==============================] - 0s 49ms/step - loss: 0.0019 - accuracy: 1.0000 - val_loss: 0.1723 - val_accuracy: 0.9333\n",
      "Epoch 10/50\n",
      "10/10 [==============================] - 0s 40ms/step - loss: 0.1539 - accuracy: 0.9667 - val_loss: 0.0216 - val_accuracy: 1.0000\n",
      "Epoch 11/50\n",
      "10/10 [==============================] - 0s 39ms/step - loss: 0.1979 - accuracy: 0.9333 - val_loss: 0.0081 - val_accuracy: 1.0000\n",
      "Epoch 12/50\n",
      "10/10 [==============================] - 0s 40ms/step - loss: 0.0507 - accuracy: 1.0000 - val_loss: 0.0039 - val_accuracy: 1.0000\n",
      "Epoch 13/50\n",
      "10/10 [==============================] - 0s 41ms/step - loss: 0.0196 - accuracy: 1.0000 - val_loss: 0.0190 - val_accuracy: 1.0000\n",
      "Epoch 14/50\n",
      "10/10 [==============================] - 0s 40ms/step - loss: 0.1530 - accuracy: 0.9000 - val_loss: 4.2527e-04 - val_accuracy: 1.0000\n",
      "Epoch 15/50\n",
      "10/10 [==============================] - 0s 41ms/step - loss: 0.4493 - accuracy: 0.9333 - val_loss: 0.0021 - val_accuracy: 1.0000\n",
      "Epoch 16/50\n",
      "10/10 [==============================] - 0s 42ms/step - loss: 0.0515 - accuracy: 0.9667 - val_loss: 0.0098 - val_accuracy: 1.0000\n",
      "Epoch 17/50\n",
      "10/10 [==============================] - 0s 42ms/step - loss: 0.1021 - accuracy: 0.9667 - val_loss: 0.0171 - val_accuracy: 1.0000\n",
      "Epoch 18/50\n",
      "10/10 [==============================] - 0s 42ms/step - loss: 0.0929 - accuracy: 0.9667 - val_loss: 0.0147 - val_accuracy: 1.0000\n",
      "Epoch 19/50\n",
      "10/10 [==============================] - 0s 40ms/step - loss: 0.3526 - accuracy: 0.9000 - val_loss: 0.0390 - val_accuracy: 1.0000\n",
      "Epoch 20/50\n",
      "10/10 [==============================] - 0s 40ms/step - loss: 0.0688 - accuracy: 0.9667 - val_loss: 0.1484 - val_accuracy: 0.8667\n",
      "Epoch 21/50\n",
      "10/10 [==============================] - 0s 40ms/step - loss: 0.5814 - accuracy: 0.9333 - val_loss: 0.0291 - val_accuracy: 1.0000\n",
      "Epoch 22/50\n",
      "10/10 [==============================] - 0s 46ms/step - loss: 0.0566 - accuracy: 0.9667 - val_loss: 0.0073 - val_accuracy: 1.0000\n",
      "Epoch 23/50\n",
      "10/10 [==============================] - 1s 52ms/step - loss: 0.0289 - accuracy: 1.0000 - val_loss: 8.9512e-04 - val_accuracy: 1.0000\n",
      "Epoch 24/50\n",
      "10/10 [==============================] - 0s 41ms/step - loss: 0.0051 - accuracy: 1.0000 - val_loss: 3.2496e-04 - val_accuracy: 1.0000\n",
      "Epoch 25/50\n",
      "10/10 [==============================] - 0s 43ms/step - loss: 6.7153e-04 - accuracy: 1.0000 - val_loss: 2.1050e-04 - val_accuracy: 1.0000\n",
      "Epoch 26/50\n",
      "10/10 [==============================] - 0s 44ms/step - loss: 0.0780 - accuracy: 0.9667 - val_loss: 0.0016 - val_accuracy: 1.0000\n",
      "Epoch 27/50\n",
      "10/10 [==============================] - 0s 41ms/step - loss: 3.8178e-04 - accuracy: 1.0000 - val_loss: 0.0024 - val_accuracy: 1.0000\n",
      "Epoch 28/50\n",
      "10/10 [==============================] - 0s 43ms/step - loss: 0.0339 - accuracy: 0.9667 - val_loss: 0.0028 - val_accuracy: 1.0000\n",
      "Epoch 29/50\n",
      "10/10 [==============================] - 0s 41ms/step - loss: 1.9123e-04 - accuracy: 1.0000 - val_loss: 0.0019 - val_accuracy: 1.0000\n",
      "Epoch 30/50\n",
      "10/10 [==============================] - 0s 39ms/step - loss: 0.0074 - accuracy: 1.0000 - val_loss: 0.0012 - val_accuracy: 1.0000\n",
      "Epoch 31/50\n",
      "10/10 [==============================] - 0s 41ms/step - loss: 0.0050 - accuracy: 1.0000 - val_loss: 0.0018 - val_accuracy: 1.0000\n",
      "Epoch 32/50\n",
      "10/10 [==============================] - 0s 40ms/step - loss: 1.5798e-04 - accuracy: 1.0000 - val_loss: 0.0025 - val_accuracy: 1.0000\n",
      "Epoch 33/50\n",
      "10/10 [==============================] - 0s 43ms/step - loss: 7.6393e-04 - accuracy: 1.0000 - val_loss: 0.0029 - val_accuracy: 1.0000\n",
      "Epoch 34/50\n",
      "10/10 [==============================] - 0s 40ms/step - loss: 1.1171e-05 - accuracy: 1.0000 - val_loss: 0.0031 - val_accuracy: 1.0000\n",
      "Epoch 35/50\n",
      "10/10 [==============================] - 0s 42ms/step - loss: 0.0225 - accuracy: 1.0000 - val_loss: 0.0028 - val_accuracy: 1.0000\n",
      "Epoch 36/50\n",
      "10/10 [==============================] - 1s 56ms/step - loss: 7.8126e-05 - accuracy: 1.0000 - val_loss: 0.0025 - val_accuracy: 1.0000\n",
      "Epoch 37/50\n",
      "10/10 [==============================] - 0s 46ms/step - loss: 0.0041 - accuracy: 1.0000 - val_loss: 0.0026 - val_accuracy: 1.0000\n",
      "Epoch 38/50\n",
      "10/10 [==============================] - 0s 40ms/step - loss: 0.0016 - accuracy: 1.0000 - val_loss: 0.0031 - val_accuracy: 1.0000\n",
      "Epoch 39/50\n",
      "10/10 [==============================] - 0s 44ms/step - loss: 0.0035 - accuracy: 1.0000 - val_loss: 0.0038 - val_accuracy: 1.0000\n",
      "Epoch 40/50\n",
      "10/10 [==============================] - 0s 43ms/step - loss: 0.1598 - accuracy: 0.9333 - val_loss: 4.8481e-04 - val_accuracy: 1.0000\n",
      "Epoch 41/50\n",
      "10/10 [==============================] - 0s 43ms/step - loss: 4.8691e-04 - accuracy: 1.0000 - val_loss: 0.0011 - val_accuracy: 1.0000\n",
      "Epoch 42/50\n",
      "10/10 [==============================] - 0s 44ms/step - loss: 0.0011 - accuracy: 1.0000 - val_loss: 0.0028 - val_accuracy: 1.0000\n",
      "Epoch 43/50\n",
      "10/10 [==============================] - 0s 43ms/step - loss: 0.0624 - accuracy: 0.9667 - val_loss: 0.0323 - val_accuracy: 1.0000\n",
      "Epoch 44/50\n",
      "10/10 [==============================] - 0s 39ms/step - loss: 0.3394 - accuracy: 0.9333 - val_loss: 2.3610e-04 - val_accuracy: 1.0000\n",
      "Epoch 45/50\n",
      "10/10 [==============================] - 0s 43ms/step - loss: 0.0062 - accuracy: 1.0000 - val_loss: 2.3888e-05 - val_accuracy: 1.0000\n",
      "Epoch 46/50\n",
      "10/10 [==============================] - 0s 42ms/step - loss: 0.2273 - accuracy: 0.9333 - val_loss: 7.5065e-06 - val_accuracy: 1.0000\n",
      "Epoch 47/50\n",
      "10/10 [==============================] - 0s 41ms/step - loss: 0.0057 - accuracy: 1.0000 - val_loss: 8.1504e-04 - val_accuracy: 1.0000\n",
      "Epoch 48/50\n",
      "10/10 [==============================] - 1s 57ms/step - loss: 5.8913e-05 - accuracy: 1.0000 - val_loss: 0.0045 - val_accuracy: 1.0000\n",
      "Epoch 49/50\n",
      "10/10 [==============================] - 1s 59ms/step - loss: 0.0014 - accuracy: 1.0000 - val_loss: 0.0080 - val_accuracy: 1.0000\n",
      "Epoch 50/50\n",
      "10/10 [==============================] - 0s 45ms/step - loss: 0.0021 - accuracy: 1.0000 - val_loss: 0.0074 - val_accuracy: 1.0000\n"
     ]
    },
    {
     "data": {
      "text/plain": [
       "<tensorflow.python.keras.callbacks.History at 0x19a99178048>"
      ]
     },
     "execution_count": 35,
     "metadata": {},
     "output_type": "execute_result"
    }
   ],
   "source": [
    "# 4. 모델 학습시키기\n",
    "model.fit_generator(\n",
    "        train_generator,\n",
    "        steps_per_epoch=10, \n",
    "        epochs=50,  \n",
    "        validation_data=test_generator,\n",
    "        validation_steps=5)"
   ]
  },
  {
   "cell_type": "code",
   "execution_count": 36,
   "metadata": {},
   "outputs": [
    {
     "name": "stdout",
     "output_type": "stream",
     "text": [
      "-- Evaluate --\n",
      "accuracy: 100.00%\n",
      "-- Predict --\n",
      "{'Drowning': 0, 'Swimming': 1}\n",
      "[[1.000]\n",
      " [0.000]\n",
      " [1.000]\n",
      " [0.101]\n",
      " [1.000]\n",
      " [1.000]\n",
      " [1.000]\n",
      " [0.000]\n",
      " [0.000]\n",
      " [1.000]\n",
      " [0.004]\n",
      " [1.000]\n",
      " [1.000]\n",
      " [0.000]\n",
      " [1.000]]\n"
     ]
    }
   ],
   "source": [
    "# 5. 모델 평가하기\n",
    "print(\"-- Evaluate --\")\n",
    "scores = model.evaluate_generator(test_generator, steps=5)\n",
    "print(\"%s: %.2f%%\" %(model.metrics_names[1], scores[1]*100))\n",
    "\n",
    "# 6. 모델 사용하기\n",
    "print(\"-- Predict --\")\n",
    "output = model.predict_generator(test_generator, steps=5)\n",
    "np.set_printoptions(formatter={'float': lambda x: \"{0:0.3f}\".format(x)})\n",
    "print(test_generator.class_indices)\n",
    "print(output)"
   ]
  },
  {
   "cell_type": "code",
   "execution_count": null,
   "metadata": {},
   "outputs": [],
   "source": []
  }
 ],
 "metadata": {
  "kernelspec": {
   "display_name": "Python 3",
   "language": "python",
   "name": "python3"
  },
  "language_info": {
   "codemirror_mode": {
    "name": "ipython",
    "version": 3
   },
   "file_extension": ".py",
   "mimetype": "text/x-python",
   "name": "python",
   "nbconvert_exporter": "python",
   "pygments_lexer": "ipython3",
   "version": "3.6.9"
  }
 },
 "nbformat": 4,
 "nbformat_minor": 2
}
